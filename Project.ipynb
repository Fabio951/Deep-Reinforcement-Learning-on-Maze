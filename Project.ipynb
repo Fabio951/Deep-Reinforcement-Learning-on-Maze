{
 "cells": [
  {
   "cell_type": "markdown",
   "metadata": {},
   "source": [
    "#### Importing the packages"
   ]
  },
  {
   "cell_type": "code",
   "execution_count": null,
   "metadata": {},
   "outputs": [],
   "source": [
    "%run Packages/Libraries.ipynb"
   ]
  },
  {
   "cell_type": "markdown",
   "metadata": {},
   "source": [
    "#### Setting the parameters"
   ]
  },
  {
   "cell_type": "code",
   "execution_count": null,
   "metadata": {},
   "outputs": [],
   "source": [
    "N_GAMES = 50000 # number of games to be played\n",
    "DEVICE = 'cuda' # device to be used\n",
    "SYNC_TIME = 4 # the target network is syncronized every SYNC_TIME games\n",
    "\n",
    "GAMMA = 0.95 # gamma parameter in the Bellman equation\n",
    "LEARNING_RATE = 1e-4 # learning rate of the optimizer\n",
    "BATCH_SIZE = 24 \n",
    "N_ACTIONS = 4 # number of possible actions\n",
    "\n",
    "EPSILON_START = 0.9 # start value of the epsilon parameter (both for epsilon-greedy and softmax policies)\n",
    "EPSILON_END = 0.1 # end value of the epsilon parameter\n",
    "EPSILON_GAMES = 1500 # number of games taken to go from start to end value for the epsilon parameter\n",
    "USE_SOFTMAX = True # if True then softmax policy, if False then epsilon-greedy policy\n",
    "\n",
    "ROWS = 20 # number of rows of the maze\n",
    "COLS = 20 # number of columns of the maze\n",
    "MOD = 1 # 0 = narrow passages, 1 = wide passages\n",
    "\n",
    "BUFFER_CAPACITY = 10000 # capacity of the buffer\n",
    "BUFFER_START_SIZE = 2500 # the training starts after the buffer has at least BUFFER_START_SIZE elements"
   ]
  },
  {
   "cell_type": "markdown",
   "metadata": {},
   "source": [
    "#### Defining the environment, buffer, agent and network"
   ]
  },
  {
   "cell_type": "code",
   "execution_count": null,
   "metadata": {},
   "outputs": [],
   "source": [
    "maze = Maze_env(ROWS, COLS, MOD)\n",
    "buffer = ExperienceBuffer(BUFFER_CAPACITY)\n",
    "agent = Agent(maze = maze,\n",
    "              experience_buffer = buffer,\n",
    "              epsilon = EPSILON_START,\n",
    "              epsilon_end = EPSILON_END,\n",
    "              epsilon_games = EPSILON_GAMES,\n",
    "              use_softmax = USE_SOFTMAX,\n",
    "              enable_decay = False\n",
    "             )\n",
    "net = Net_2(ROWS*COLS, N_ACTIONS, ROWS, COLS).to(DEVICE) # network for the behaviour policy\n",
    "tgt_net = Net_2(ROWS*COLS, N_ACTIONS, ROWS, COLS).to(DEVICE) # target network for the updat policy\n",
    "optimizer = optim.Adam(net.parameters(), lr=LEARNING_RATE)"
   ]
  },
  {
   "cell_type": "code",
   "execution_count": null,
   "metadata": {},
   "outputs": [],
   "source": [
    "plt.imshow(agent.maze.reshape(ROWS,COLS))"
   ]
  },
  {
   "cell_type": "markdown",
   "metadata": {},
   "source": [
    "#### Training the Agent"
   ]
  },
  {
   "cell_type": "code",
   "execution_count": null,
   "metadata": {
    "scrolled": true
   },
   "outputs": [],
   "source": [
    "max_reward = None\n",
    "tot_rewards = []\n",
    "\n",
    "for game in range(N_GAMES):\n",
    "    counter = 0\n",
    "    status = 0\n",
    "    print(agent.epsilon)\n",
    "    while status==0:\n",
    "        counter += 1\n",
    "        episode_reward, status = agent.play(net, device=DEVICE)\n",
    "    \n",
    "        if episode_reward is not None:\n",
    "            print('Game %i, moves: %i' %(game, counter))\n",
    "            tot_rewards.append(episode_reward)\n",
    "            mean_reward = np.mean(tot_rewards[-25:])\n",
    "            print('\\tEpisode reward: %.5f' %(episode_reward))\n",
    "            print('\\tMean reward of last 25 episodes: %.5f' %(mean_reward))\n",
    "            if max_reward==None or episode_reward>max_reward:\n",
    "                if max_reward is None:\n",
    "                    print('\\tBest reward improvement at game %i: None --> %.5f' %(game, episode_reward))\n",
    "                else:\n",
    "                    print('\\tBest reward improvement at game %i: %.5f --> %.5f' %(game, max_reward, episode_reward))\n",
    "                max_reward = episode_reward\n",
    "                torch.save(net.state_dict(), \"ckpt/best.ckpt\")\n",
    "                print('\\tModel saved!')\n",
    "        if len(buffer)<BUFFER_START_SIZE:\n",
    "            continue\n",
    "        agent.enable_decay = True\n",
    "        optimizer.zero_grad()\n",
    "        batch = buffer.sample(BATCH_SIZE, device=DEVICE)\n",
    "        loss_t = calc_loss(batch, net, gamma=GAMMA, device=DEVICE)\n",
    "        loss_t.backward()\n",
    "        optimizer.step()\n",
    "    #if (game+1)%SYNC_TIME==0:\n",
    "    #    tgt_net.load_state_dict(net.state_dict())"
   ]
  },
  {
   "cell_type": "markdown",
   "metadata": {},
   "source": [
    "#### Showing the solution (when the training is completed)"
   ]
  },
  {
   "cell_type": "code",
   "execution_count": null,
   "metadata": {},
   "outputs": [],
   "source": [
    "play_game(net, maze, pos, device=DEVICE)"
   ]
  },
  {
   "cell_type": "markdown",
   "metadata": {},
   "source": [
    "#### Showing the flow of the maze (when the training is completed)"
   ]
  },
  {
   "cell_type": "code",
   "execution_count": null,
   "metadata": {},
   "outputs": [],
   "source": [
    "show_flow(net, maze, DEVICE)"
   ]
  }
 ],
 "metadata": {
  "kernelspec": {
   "display_name": "Python 3",
   "language": "python",
   "name": "python3"
  },
  "language_info": {
   "codemirror_mode": {
    "name": "ipython",
    "version": 3
   },
   "file_extension": ".py",
   "mimetype": "text/x-python",
   "name": "python",
   "nbconvert_exporter": "python",
   "pygments_lexer": "ipython3",
   "version": "3.7.4"
  }
 },
 "nbformat": 4,
 "nbformat_minor": 2
}
