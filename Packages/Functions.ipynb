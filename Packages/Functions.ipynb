{
 "cells": [
  {
   "cell_type": "markdown",
   "metadata": {},
   "source": [
    "#### Shows how the agent would play the game always choosing the best action"
   ]
  },
  {
   "cell_type": "code",
   "execution_count": null,
   "metadata": {},
   "outputs": [],
   "source": [
    "def play_game(net, maze, pos, device):\n",
    "    net.eval()\n",
    "    maze.reset()\n",
    "    maze.state = [pos[0], pos[1], maze.state[2]]\n",
    "    envstate = maze.observe()\n",
    "    counter = 0\n",
    "    while True:\n",
    "        counter += 1\n",
    "        #time.sleep(0.4)\n",
    "        prev_envstate = torch.Tensor(envstate).to(device)\n",
    "        # get next action\n",
    "        qvals = net(prev_envstate.view(1,1,20,20))\n",
    "        action = torch.argmax(qvals)\n",
    "        envstate, reward, game_status = maze.act(action)\n",
    "        plt.imshow(maze.observe(empty=False).reshape(20,20))\n",
    "        plt.show()\n",
    "        #print('Move %i' %(counter))\n",
    "        clear_output(wait = True)\n",
    "        if game_status == 1:\n",
    "            maze_show = copy.deepcopy(maze.observe(empty=False)).reshape(20,20)\n",
    "            for cell in maze.visited:\n",
    "                maze_show[cell] = 0.8\n",
    "            maze_show[19,19] = 0.3\n",
    "            fig = plt.figure(figsize=(12,12))\n",
    "            plt.imshow(maze_show, cmap='gray')\n",
    "            plt.xticks([])\n",
    "            plt.yticks([])\n",
    "            plt.show()\n",
    "            fig.savefig('solved.pdf')\n",
    "            return 1\n",
    "        elif game_status == -1:\n",
    "            return 0"
   ]
  },
  {
   "cell_type": "markdown",
   "metadata": {},
   "source": [
    "#### Shows the flow of the maze"
   ]
  },
  {
   "cell_type": "code",
   "execution_count": null,
   "metadata": {},
   "outputs": [],
   "source": [
    "def show_flow(net, maze, device):\n",
    "    #0=left, 1=up, 2=right, 3=down\n",
    "    maze_show = copy.deepcopy(maze.init_maze)\n",
    "    for cell in [*maze.free_cells, (0,0)]:\n",
    "        maze.state = (cell[0], cell[1], maze.state[2])\n",
    "        maze_pos = torch.Tensor(maze.observe(empty=True)).to(device).view(1,1,20,20)\n",
    "        qvals = net(maze_pos)\n",
    "        action = torch.argmax(qvals)\n",
    "        maze_show[cell] = action\n",
    "    fig = plt.figure(figsize=(12,12))\n",
    "    maze_plot = copy.deepcopy(maze.init_maze)\n",
    "    maze_plot[0,0] = 1.0\n",
    "    plt.imshow(maze_plot, cmap='gray')\n",
    "    #plt.arrow(0,10,1,1,color='red', head_width=0.2)\n",
    "    #plt.axis('off')\n",
    "    plt.xticks([])\n",
    "    plt.yticks([])\n",
    "    COL_R = 'limegreen'\n",
    "    COL_W = 'red'\n",
    "    HW = 0.12\n",
    "    LEN = 0.45\n",
    "    wrong_cells = [(17,0), (17,1), (17,3), (17,4), (17,5), (18,0), (18,3), (18,4), (19,0), (19,1), (19,2),\n",
    "                   (16,13), (16,14), (15,14), (19,18)]\n",
    "    for cell in maze.free_cells:\n",
    "        if cell in wrong_cells:\n",
    "            COL = COL_W\n",
    "        else:\n",
    "            COL = COL_R\n",
    "        if maze_show[cell]==0:\n",
    "            plt.arrow(cell[1]+0.3, cell[0], -LEN, 0.0, color=COL, head_width=HW)\n",
    "        if maze_show[cell]==1:\n",
    "            plt.arrow(cell[1], cell[0]+0.3, 0.0, -LEN, color=COL, head_width=HW)\n",
    "        if maze_show[cell]==2:\n",
    "            plt.arrow(cell[1]-0.3, cell[0], LEN, 0.0, color=COL, head_width=HW)\n",
    "        if maze_show[cell]==3:\n",
    "            plt.arrow(cell[1], cell[0]-0.3, 0.0, LEN, color=COL, head_width=HW)\n",
    "    plt.show()\n",
    "    fig.savefig('flow.pdf')"
   ]
  }
 ],
 "metadata": {
  "kernelspec": {
   "display_name": "Python 3",
   "language": "python",
   "name": "python3"
  },
  "language_info": {
   "codemirror_mode": {
    "name": "ipython",
    "version": 3
   },
   "file_extension": ".py",
   "mimetype": "text/x-python",
   "name": "python",
   "nbconvert_exporter": "python",
   "pygments_lexer": "ipython3",
   "version": "3.7.4"
  }
 },
 "nbformat": 4,
 "nbformat_minor": 2
}
