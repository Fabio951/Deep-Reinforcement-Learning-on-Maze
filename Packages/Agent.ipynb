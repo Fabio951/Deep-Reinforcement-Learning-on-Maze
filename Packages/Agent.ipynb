{
 "cells": [
  {
   "cell_type": "markdown",
   "metadata": {},
   "source": [
    "#### Defining the agent"
   ]
  },
  {
   "cell_type": "code",
   "execution_count": null,
   "metadata": {},
   "outputs": [],
   "source": [
    "class Agent:\n",
    "    \n",
    "    # initialize\n",
    "    def __init__(self, maze, experience_buffer,\n",
    "                 epsilon, epsilon_end, epsilon_games, use_softmax=True, enable_decay = False):\n",
    "        self.env = maze\n",
    "        self.buffer = experience_buffer\n",
    "        self.epsilon = epsilon\n",
    "        self.epsilon_end = epsilon_end\n",
    "        self.n_actions = 4\n",
    "        self.decrement = (epsilon - epsilon_end)/epsilon_games\n",
    "        #self.max_length = max_length\n",
    "        self.use_softmax = use_softmax\n",
    "        self.maze = maze.observe(empty=True)\n",
    "        self.tot_reward = 0\n",
    "        #self.counter = 0\n",
    "        self.enable_decay = enable_decay\n",
    "        \n",
    "    def play(self, net, epsilon=None, device='cuda'):\n",
    "        #self.counter += 1\n",
    "        if epsilon is not None:\n",
    "            eps = epsilon\n",
    "        else:\n",
    "            eps = self.epsilon\n",
    "        action = self.select_action(net, eps, device)\n",
    "        next_state, reward, status = self.env.act(action)\n",
    "        exp = Experience(self.maze, action, reward, status, next_state)\n",
    "        self.buffer.append(exp)\n",
    "        self.tot_reward += reward\n",
    "        if status!=0:# or self.counter>self.max_length:\n",
    "            self.env.reset()\n",
    "            self.maze = maze.observe(empty=True)\n",
    "            tot_reward = copy.deepcopy(self.tot_reward)\n",
    "            self.tot_reward = 0\n",
    "            #self.counter = 0\n",
    "            if self.enable_decay:\n",
    "                self.epsilon = self.epsilon - self.decrement if self.epsilon>self.epsilon_end else self.epsilon_end\n",
    "            return tot_reward, status\n",
    "        self.maze = next_state\n",
    "        return None, status\n",
    "        \n",
    "        \n",
    "    def select_action(self, net, epsilon, device):\n",
    "        if self.use_softmax:\n",
    "            state = torch.Tensor(self.maze).to(device).view(1,-1)\n",
    "            q_vals = net(state).cpu().detach().numpy().squeeze()\n",
    "            probs = sp.softmax(q_vals/self.epsilon).squeeze()\n",
    "            action = np.random.choice(self.n_actions, p = probs)\n",
    "        else:\n",
    "            if np.random.random() < self.epsilon:\n",
    "                action = np.random.randint(self.n_actions, size=1)[0]\n",
    "            else:\n",
    "                state = torch.Tensor(self.maze).to(device).view(1,-1)\n",
    "                q_vals = net(state).cpu().detach().numpy().squeeze()\n",
    "                act_v = np.argmax(q_vals, axis=0)\n",
    "                action = int(act_v)\n",
    "        return action%run Libraries.ipynb"
   ]
  },
  {
   "cell_type": "markdown",
   "metadata": {},
   "source": [
    "#### Defining the buffer"
   ]
  },
  {
   "cell_type": "code",
   "execution_count": null,
   "metadata": {},
   "outputs": [],
   "source": [
    "Experience = collections.namedtuple('Experience',\n",
    "                                    field_names=['state', 'action', 'reward', 'status', 'new_state'])\n",
    "\n",
    "class ExperienceBuffer:\n",
    "    def __init__(self, capacity):\n",
    "        self.buffer = collections.deque(maxlen=capacity)\n",
    "\n",
    "    def __len__(self):\n",
    "        return len(self.buffer)\n",
    "\n",
    "    def append(self, experience):\n",
    "        self.buffer.append(experience)\n",
    "\n",
    "    def sample(self, batch_size, device='cuda'):\n",
    "        indices = np.random.choice(len(self.buffer), batch_size, replace=False)\n",
    "        states, actions, rewards, status, next_states = zip(*[self.buffer[idx] for idx in indices])\n",
    "        return torch.Tensor(states).type(torch.float).to(device), \\\n",
    "               torch.Tensor(actions).type(torch.long).to(device), \\\n",
    "               torch.Tensor(rewards), torch.Tensor(status).type(torch.int8).to(device), \\\n",
    "               torch.Tensor(next_states).to(device)"
   ]
  }
 ],
 "metadata": {
  "kernelspec": {
   "display_name": "Python 3",
   "language": "python",
   "name": "python3"
  },
  "language_info": {
   "codemirror_mode": {
    "name": "ipython",
    "version": 3
   },
   "file_extension": ".py",
   "mimetype": "text/x-python",
   "name": "python",
   "nbconvert_exporter": "python",
   "pygments_lexer": "ipython3",
   "version": "3.7.4"
  }
 },
 "nbformat": 4,
 "nbformat_minor": 2
}
